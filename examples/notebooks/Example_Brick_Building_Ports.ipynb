{
 "cells": [
  {
   "cell_type": "markdown",
   "metadata": {},
   "source": [
    "# Building a Basic Brick\n",
    "\n",
    "In this tutorial, we'll go through a simple example of how to build a basic AND brick.  We'll start with some basic imports.  We almost always use NetworkX and Numpy.  The fugu imports are really just for testing our new brick."
   ]
  },
  {
   "cell_type": "code",
   "execution_count": null,
   "metadata": {},
   "outputs": [],
   "source": [
    "import numpy as np\n",
    "import fugu\n",
    "from fugu import Scaffold, Brick\n",
    "from fugu.bricks import Vector_Input\n",
    "from fugu.backends import snn_Backend\n",
    "from fugu.scaffold import ChannelSpec, PortSpec, ChannelData, PortData, PortUtil"
   ]
  },
  {
   "cell_type": "markdown",
   "metadata": {},
   "source": [
    "All bricks should inherit from the `Brick` class.  Bricks that are listed as input bricks should instead inherit from `InputBrick`, which is beyond the scope of this tutorial.  The construction of most brick types is similar; constructing a brick that takes input coding \"current\" (see below) is a bit different and is beyond the scope of this tutorial.\n",
    "\n",
    "The `Brick` class provides the framework for the a scaffold to build a neural graph. Subclasses of `Brick` should provide the actual code that will generate the nodes and edges on a graph.  The graph construction should take place within the `build` method.  Let's look at the definition of the parent class `Brick`.\n",
    "\n",
    "```python \n",
    "class Brick(ABC):\n",
    "    def __init__(self):\n",
    "        self.name = \"Empty Brick\"\n",
    "        self.supported_codings = []\n",
    "\n",
    "    @abstractmethod\n",
    "    def build2(self, graph, inputs: dict[str, PortData] = {}):\n",
    "        pass\n",
    "\n",
    "```\n",
    "\n",
    "The first line `class Brick(ABC)` defines the abstract class of `Brick`.  Brick objects inherit from `ABC` which just means that `Brick` is an abstract class that cannot be instantiated on its own; only subclasses may be instantiated.\n",
    "\n",
    "The ``__init__`` method contains standard instantiation code.  All bricks are expected to have a member property `self.name` that is unique to the brick.  The uniqueness needs to be determined by the scaffold, not by the brick.\n",
    "\n",
    "The property `self.is_built` is a boolean that is True if the brick has been built (added to the graph).\n",
    "\n",
    "The property `self.supported_codings` is a list of input codings (strings) that the brick supports.  Since you have the full use of python when you are defining your brick, you can support multiple coding types completely transparent to the user.  A full list of coding types can be found at `fugu.input_coding_types`.\n",
    "\n",
    "The method `build2` will be called by the scaffold when the graph is to be built.  Arguments are:\n",
    "- graph: The neuron graph object that we are building onto.\n",
    "- inputs: A *dict* of input ports. Each *PortData* object describes the structure of one port, along with lists of concrete neuron IDs.\n",
    "\n",
    "Each brick is responsible for throwing the appropriate errors/warnings if the inputs are not compatible with the brick.\n",
    "\n",
    "Below is a basic AND brick."
   ]
  },
  {
   "cell_type": "code",
   "execution_count": null,
   "metadata": {},
   "outputs": [],
   "source": [
    "class AND(Brick):\n",
    "    \"\"\"\n",
    "    Brick for performing a logical AND.\n",
    "    Operation is performed entry-wise, matching based on index.  All codings are supported.\n",
    "    \"\"\"\n",
    "\n",
    "    def __init__(self, name=\"AND\"):\n",
    "        \"\"\"\n",
    "        Args:\n",
    "            name (str): Name of the brick.  If not specified, a default will be used.  Name should be unique.\n",
    "        \"\"\"\n",
    "        super(AND, self).__init__(name)\n",
    "\n",
    "        # The brick hasn't been built yet.\n",
    "        self.is_built = False\n",
    "\n",
    "        # We just store the name passed at construction.\n",
    "        self.name = name\n",
    "\n",
    "    # This method describes the input ports that any AND brick expects.\n",
    "    # This includes the actual data values, as well as a signal indicating when the\n",
    "    # source of input is ready for us to procss the data. Since we execute in a single\n",
    "    # cycle, this signal is simply passed on to the next brick (see build2() later).\n",
    "    @classmethod\n",
    "    def input_ports(cls) -> dict[str, PortSpec]:\n",
    "        port = PortSpec(name='input', minimum=2, maximum=2)  # Must be exactly two ports, no more, no less.\n",
    "        port.channels['data']     = ChannelSpec(name='data')\n",
    "        port.channels['complete'] = ChannelSpec(name='complete')\n",
    "        return {port.name: port}\n",
    "\n",
    "    # This method describes the output port that any AND brick provides.\n",
    "    # This includes the data and the 'complete' signal that we pass on.\n",
    "    @classmethod\n",
    "    def output_ports(cls) -> dict[str, PortSpec]:\n",
    "        port = PortSpec(name='output')\n",
    "        port.channels['data']     = ChannelSpec(name='data', coding=['Raster'])\n",
    "        port.channels['complete'] = ChannelSpec(name='complete')\n",
    "        return {port.name: port}\n",
    "\n",
    "    # This method does the actual network construction. It reads the input ports, wires up\n",
    "    # some neurons, and provides their identities via the output port.\n",
    "    def build2(self, graph, inputs: dict[str, PortData] = {}):\n",
    "        \"\"\"\n",
    "        Build AND brick.\n",
    "        Raises:\n",
    "            ValueError: If != 2 inputs.  Only 2 inputs are supported.  Error if unsupported mode.\n",
    "        \"\"\"\n",
    "        # Expect two inputs\n",
    "        if len(inputs) != 2:\n",
    "            raise ValueError('Only two inputs supported.')\n",
    "\n",
    "        # Set up convenience variables for accessing our working ports.\n",
    "        input1, input2 = PortUtil.get_autoports(inputs, 'input', 2)  # Unpack the input ports.\n",
    "        result = PortUtil.make_ports_from_specs(AND.output_ports())  # Create our output port(s).\n",
    "        output = result['output']  # Unpack the only actual output port.\n",
    "        data = output.channels['data']  # Unpack the data channel where our main result goes.\n",
    "\n",
    "        # Keep the same coding as input 0 for the output\n",
    "        # This is an arbitrary decision at this point.\n",
    "        # Generally, your brick will impart some coding, but that isn't the case here.\n",
    "        data.spec.coding = input1.channels['data'].spec.coding\n",
    "\n",
    "        # Hook up the signals.\n",
    "        # We just forward the incoming signal with one cycle of delay.\n",
    "        complete_node_name = self.generate_neuron_name('complete')\n",
    "        output.channels['complete'].neurons = [complete_node_name]\n",
    "        graph.add_node(complete_node_name,\n",
    "                       index=-1,\n",
    "                       threshold=0.0,\n",
    "                       decay=0.0,\n",
    "                       p=1.0,\n",
    "                       potential=0.0)\n",
    "        graph.add_edge(input1.channels['complete'].neurons[0],\n",
    "                       complete_node_name,\n",
    "                       weight=1.0,\n",
    "                       delay=1)\n",
    "\n",
    "        # Build the computational graph.\n",
    "        # This is the heart of the brick.\n",
    "        # The plan is to iterate over our two input data channels in parallel, connecting\n",
    "        # each pair of inputs via a new neuron that does the AND operation.\n",
    "        data1 = input1.channels['data'].neurons\n",
    "        data2 = input2.channels['data'].neurons\n",
    "        for i in range(min(len(data1), len(data2))):\n",
    "            operand1 = data1[i]\n",
    "            operand2 = data2[i]\n",
    "            # Generate a name for the new neuron, which also happens to be an output neuron.\n",
    "            and_node_name = self.generate_neuron_name(f\"{operand1}_{operand2}\")\n",
    "            data.neurons.append(and_node_name)\n",
    "            # Create the neuron.\n",
    "            graph.add_node(and_node_name,\n",
    "                           index=0,\n",
    "                           threshold=1.0,\n",
    "                           decay=1.0,\n",
    "                           p=1.0,\n",
    "                           potential=0.0)\n",
    "            # Make a synapse to the first input neuron.\n",
    "            graph.add_edge(operand1,\n",
    "                           and_node_name,\n",
    "                           weight=0.75,\n",
    "                           delay=1.0)\n",
    "            # Make a synapse to the second input neuron.\n",
    "            graph.add_edge(operand2,\n",
    "                           and_node_name,\n",
    "                           weight=0.75,\n",
    "                           delay=1.0)\n",
    "\n",
    "        self.is_built = True\n",
    "        return result"
   ]
  },
  {
   "cell_type": "markdown",
   "metadata": {},
   "source": [
    "Brick classes provide a means for _reflection_. We can ask them for their port specification as a data structure by calling input_ports() and output_ports(). Or we can ask for a human-readable description."
   ]
  },
  {
   "cell_type": "code",
   "execution_count": null,
   "metadata": {
    "scrolled": true
   },
   "outputs": [],
   "source": [
    "AND.show_ports()\n",
    "print()\n",
    "Vector_Input.show_ports()"
   ]
  },
  {
   "cell_type": "markdown",
   "metadata": {},
   "source": [
    "Knowing the ports, we can assemble a scaffold."
   ]
  },
  {
   "cell_type": "code",
   "execution_count": null,
   "metadata": {},
   "outputs": [],
   "source": [
    "scaffold = Scaffold()\n",
    "I1 = scaffold.add_brick(Vector_Input(np.array([1,0,1,0]), coding='Raster', name='input1'))\n",
    "I2 = scaffold.add_brick(Vector_Input(np.array([1,1,0,0]), coding='Raster', name='input2'))\n",
    "A = scaffold.add_brick(AND(), output=True)\n",
    "scaffold.connect(I1, A)  # Binds I1's default output port to A's first default input port.\n",
    "scaffold.connect(I2, A)  # Binds I2's default output port to A's second default input port.\n",
    "scaffold.lay_bricks()\n",
    "scaffold.summary(verbose=1)"
   ]
  },
  {
   "cell_type": "markdown",
   "metadata": {},
   "source": [
    "Finally, we can simulate the network and view its output."
   ]
  },
  {
   "cell_type": "code",
   "execution_count": null,
   "metadata": {},
   "outputs": [],
   "source": [
    "backend = snn_Backend()\n",
    "backend_args = {}\n",
    "backend_args['record'] = 'all'\n",
    "backend.compile(scaffold, backend_args)\n",
    "result = backend.run(10)\n",
    "print(result)"
   ]
  },
  {
   "cell_type": "code",
   "execution_count": null,
   "metadata": {},
   "outputs": [],
   "source": []
  }
 ],
 "metadata": {
  "kernelspec": {
   "display_name": "Python 3 (ipykernel)",
   "language": "python",
   "name": "python3"
  },
  "language_info": {
   "codemirror_mode": {
    "name": "ipython",
    "version": 3
   },
   "file_extension": ".py",
   "mimetype": "text/x-python",
   "name": "python",
   "nbconvert_exporter": "python",
   "pygments_lexer": "ipython3",
   "version": "3.10.7"
  }
 },
 "nbformat": 4,
 "nbformat_minor": 4
}
