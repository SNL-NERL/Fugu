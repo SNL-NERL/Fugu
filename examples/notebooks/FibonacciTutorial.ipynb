{
 "cells": [
  {
   "cell_type": "markdown",
   "id": "e4500c2f",
   "metadata": {
    "slideshow": {
     "slide_type": "slide"
    }
   },
   "source": [
    "# Fugu Example Notebook - Fibonacci Sequence\n",
    "\n",
    "Brad Aimone, 3/14/2022.  Happy Pi Day.\n",
    "\n",
    "This notebook shows how Fugu can be used to generate more complex arithmetic circuits from  basic streaming arithmetic functions such as addition.  The goal of this notebook is to show how more complex arithemetic fucntinos can be simply composed from Fugu bricks.\n",
    "\n",
    "\n",
    "## Step 0: Setup\n",
    "First, we need to import Fugu and other relevant libraries.  Here, we will include the adder bricks"
   ]
  },
  {
   "cell_type": "code",
   "execution_count": 1,
   "id": "b04e637a",
   "metadata": {
    "ExecuteTime": {
     "end_time": "2022-10-17T19:25:47.909086Z",
     "start_time": "2022-10-17T19:25:47.512761Z"
    },
    "slideshow": {
     "slide_type": "subslide"
    }
   },
   "outputs": [],
   "source": [
    "import networkx as nx\n",
    "import numpy as np\n",
    "import fugu\n",
    "from fugu import Scaffold, Brick\n",
    "from fugu.bricks import Vector_Input\n",
    "from fugu.backends import snn_Backend\n",
    "from fugu.bricks import streaming_adder, temporal_shift"
   ]
  },
  {
   "cell_type": "code",
   "execution_count": 14,
   "id": "c64a61d0",
   "metadata": {
    "ExecuteTime": {
     "end_time": "2022-10-17T19:49:49.041973Z",
     "start_time": "2022-10-17T19:49:49.033212Z"
    },
    "slideshow": {
     "slide_type": "subslide"
    }
   },
   "outputs": [],
   "source": [
    "#A function to plot spike rasters:\n",
    "def plot_spike_raster(scaffold, results):\n",
    "    import matplotlib.pyplot as plot\n",
    "    num_elements=scaffold.graph.number_of_nodes()\n",
    "    print('Number of neurons: ', num_elements)\n",
    "    results.plot.scatter(x='time', y='neuron_number', title=\"Spike Raster\")\n",
    "    plot.show()\n",
    "    \n",
    "#A function to compute the value from LEIT coded neurons\n",
    "def compute_value(result):\n",
    "    for i in range(0,8):\n",
    "        add_element=12+9*i\n",
    "        last_adder_begin=np.sum(result.query('neuron_number=='+str(add_element)+'-6')['time'])\n",
    "        query_str=str(last_adder_begin)+' <= time and neuron_number ==' +str(add_element-1)\n",
    "        f10=np.sum(2**(result.query(query_str)['time']-last_adder_begin))\n",
    "        print('Fibonacci ' + str(i+3) + ' '+ str(f10) +' at neuron ' + str(add_element-1))"
   ]
  },
  {
   "cell_type": "markdown",
   "id": "e8727ce8",
   "metadata": {
    "ExecuteTime": {
     "end_time": "2022-10-17T18:44:05.676143Z",
     "start_time": "2022-10-17T18:44:05.667272Z"
    },
    "slideshow": {
     "slide_type": "slide"
    }
   },
   "source": [
    "## Example: Brute force circuit\n",
    "\n",
    "The goal of this circuit is to implement the Fibonacci sequence by brute force; if we want to go 10 layers, we will have 10 adders.  \n",
    "\n",
    "First we instantiate an empty scaffold, and we prep some input data.\n",
    "\n",
    "The input data might seem strange; The examples in this notebook describe circuits that use inputs which are encoded using a little-endian-in-time (LEIT) coding scheme.  LEIT coding is simple - think of a binary description of a number (19 = 10011), flip it around so the least significant bit is first (19 => 11001), and then have the input neuron spike at the first, second, and fifth timesteps. "
   ]
  },
  {
   "cell_type": "code",
   "execution_count": 3,
   "id": "65678fb4",
   "metadata": {
    "ExecuteTime": {
     "end_time": "2022-10-17T19:25:50.917505Z",
     "start_time": "2022-10-17T19:25:50.911992Z"
    },
    "slideshow": {
     "slide_type": "fragment"
    }
   },
   "outputs": [],
   "source": [
    "scaffold = Scaffold()\n",
    "\n",
    "#Input values\n",
    "F_1=[0,0]\n",
    "F_2=[1,0]\n",
    "shift_length_total = 2\n"
   ]
  },
  {
   "cell_type": "markdown",
   "id": "905402d8",
   "metadata": {
    "slideshow": {
     "slide_type": "slide"
    }
   },
   "source": [
    "We'll now add input bricks to represent the first and second values.  We add a brick to a scaffold like this:\n",
    "\n",
    "`scaffold.add_brick(brick_function, input_nodes=[], metadata=None, name=None, output=False)`\n",
    "\n",
    "- `brick_function` is the brick itself.\n",
    "- `input_nodes` is a list of inputs nodes.  In this case, they are inputs so we have the special case of 'input', or equivalently ['input'].\n",
    "- `metadata` is used to include extra information about a node.  Previously this had some functionality, but now is mostly just for taking notes and is usually unused.\n",
    "- `ouput` set to `True` if this is an output for the network.  Generally, only output bricks are recorded.\n",
    "\n",
    "We use `Vector_Input` as our input brick type.  This type of input brick is useful for loading a numpy array (or anything that can be cast to a numpy array) as a spike train.\n",
    "\n",
    "Creating a `Vector_Input` looks like this:\n",
    "\n",
    "`Vector_Input(spikes, time_dimension = False, coding='Undefined', batchable=True, name='VectorInput')`\n",
    "\n",
    "- `spikes` array of spikes\n",
    "- `time_dimension` if True, the input array's 0-th dimension is treated as a time dimension. All other dimensions are treated as spatial dimensions.\n",
    "- `coding` choose a Coding type.  As this is an input, the coding type is self-reported.\n",
    "- `batchable` set to `True` if input should represent static data; currently `True` is the only supported mode.\n",
    "- `name` set the name of the brick.  If not specified, a default will be used.  Name should be unique."
   ]
  },
  {
   "cell_type": "code",
   "execution_count": 4,
   "id": "d8f69578",
   "metadata": {
    "ExecuteTime": {
     "end_time": "2022-10-17T19:25:51.932276Z",
     "start_time": "2022-10-17T19:25:51.925002Z"
    }
   },
   "outputs": [],
   "source": [
    "scaffold.add_brick(Vector_Input(np.array([F_1]), coding='binary-L', name='F1', time_dimension=True), 'input') #0\n",
    "scaffold.add_brick(Vector_Input(np.array([F_2]), coding='binary-L', name='F2', time_dimension=True), 'input') #1"
   ]
  },
  {
   "cell_type": "markdown",
   "id": "257170d1",
   "metadata": {},
   "source": [
    "Our scaffold is defined, but so far it only has inputs.  We need to compute the intermediate sums, we'll add some adders."
   ]
  },
  {
   "cell_type": "code",
   "execution_count": 5,
   "id": "24b72676",
   "metadata": {
    "ExecuteTime": {
     "end_time": "2022-10-17T19:25:54.549135Z",
     "start_time": "2022-10-17T19:25:54.543573Z"
    }
   },
   "outputs": [],
   "source": [
    "# The first adder will add of F1 and F2.  This output is F3\n",
    "scaffold.add_brick(streaming_adder(name='add_12_'), [(0,0), (1,0)], output=True) #2"
   ]
  },
  {
   "cell_type": "markdown",
   "id": "aebedb9f",
   "metadata": {},
   "source": [
    "What's going on with this statement? We are adding a brick as before except:\n",
    "\n",
    "- `streaming_adder` only needs a name; we call it \"add_12_\"\n",
    "- `[(0,0), (1,0)]` says that we're connecting it to Node 0, Output 0 (F1) and Node 1, Output 0 (F2)\n",
    "- `output` being `True` means that we'll record from this brick\n",
    "\n",
    "There are other ways to specify the input connections.  We have tried to be flexible to support what formats are convenient.  Please check the documentation and/or the code for options.\n",
    "\n",
    "Generally, recording from intermediate bricks is discouraged because it can slow processing and require more resources.\n",
    "\n",
    "Let's take a second to look at what's going on in the scaffold."
   ]
  },
  {
   "cell_type": "code",
   "execution_count": 6,
   "id": "8c66a301",
   "metadata": {
    "ExecuteTime": {
     "end_time": "2022-10-17T19:25:59.055283Z",
     "start_time": "2022-10-17T19:25:58.848845Z"
    }
   },
   "outputs": [
    {
     "name": "stdout",
     "output_type": "stream",
     "text": [
      "False\n",
      "None\n"
     ]
    },
    {
     "data": {
      "image/png": "[encoded data removed]",
      "text/plain": [
       "<Figure size 432x288 with 1 Axes>"
      ]
     },
     "metadata": {},
     "output_type": "display_data"
    }
   ],
   "source": [
    "print(scaffold.is_built)  #Scaffold has not been built\n",
    "print(scaffold.graph) #So the graph is None\n",
    "\n",
    "nx.draw(scaffold.circuit) #But we can draw the circuit\n"
   ]
  },
  {
   "cell_type": "code",
   "execution_count": 7,
   "id": "141c10ab",
   "metadata": {
    "ExecuteTime": {
     "end_time": "2022-10-17T19:26:02.178475Z",
     "start_time": "2022-10-17T19:26:02.170145Z"
    }
   },
   "outputs": [
    {
     "name": "stdout",
     "output_type": "stream",
     "text": [
      "Scaffold is built: False\n",
      "-------------------------------------------------------\n",
      "List of Bricks:\n",
      "\r\n",
      "\n",
      "Brick No.: 0\n",
      "Brick Tag: F1-0\n",
      "Brick Name: F1\n",
      "{'tag': 'F1-0', 'name': 'F1', 'brick': <fugu.bricks.input_bricks.Vector_Input object at 0x7f388da6d970>, 'layer': 'input', 'input_nodes': [(-2, 0)]}\n",
      "Brick is built: False\n",
      "\r\n",
      "\n",
      "Brick No.: 1\n",
      "Brick Tag: F2-1\n",
      "Brick Name: F2\n",
      "{'tag': 'F2-1', 'name': 'F2', 'brick': <fugu.bricks.input_bricks.Vector_Input object at 0x7f388da6dd00>, 'layer': 'input', 'input_nodes': [(-2, 0)]}\n",
      "Brick is built: False\n",
      "\r\n",
      "\n",
      "Brick No.: 2\n",
      "Brick Tag: Brick-2\n",
      "Brick Name: add_12_\n",
      "{'tag': 'Brick-2', 'name': 'add_12_', 'brick': <fugu.bricks.adder_bricks.streaming_adder object at 0x7f388da6d580>, 'input_nodes': [(0, 0), (1, 0)], 'layer': 'output'}\n",
      "Brick is built: False\n",
      "\r\n",
      "\n",
      "-------------------------------------------------------\n",
      "\r\n",
      "\n",
      "-------------------------------------------------------\n",
      "List of Brick Edges:\n",
      "\r\n",
      "\n",
      "Edge: (0, 2)\n",
      "{}\n",
      "Edge: (1, 2)\n",
      "{}\n"
     ]
    }
   ],
   "source": [
    "scaffold.summary()  #We can also get a text summary"
   ]
  },
  {
   "cell_type": "markdown",
   "id": "816a49ff",
   "metadata": {},
   "source": [
    "Let's repeat the process to build more sums.  We could've (and should've) use a for loop for this.\n",
    "\n",
    "One thing to note, bricks transfer spikes to the next brick as soon as possible.  \n",
    "\n",
    "In this example, that matters because (for example):\n",
    "`F1 + F2 = F3` (via brick `add_12_` )\n",
    "\n",
    "`F2 + F3 = F4` (via brick `add_23_` )\n",
    "\n",
    "But `F2` will send its spikes to `add_23_` as soon as they are available.  But, `add_12_` takes time to compute.  It takes precisely 2 timesteps.  So, we add an additional brick, `temporal_shift` to delay the spikes from `F2`.  This way all the information arrives at `add_23_` at the same time. "
   ]
  },
  {
   "cell_type": "code",
   "execution_count": 8,
   "id": "9f080011",
   "metadata": {
    "ExecuteTime": {
     "end_time": "2022-10-17T19:26:09.399353Z",
     "start_time": "2022-10-17T19:26:09.384699Z"
    }
   },
   "outputs": [],
   "source": [
    "# The second adder adds a time-delayed version (2 timesteps) of F2 and F3.  This output is F4\n",
    "scaffold.add_brick(temporal_shift(name='shift_2_', shift_length=shift_length_total), [(1,0)], output=True) #3\n",
    "scaffold.add_brick(streaming_adder(name='add_23_'), [(2,0), (3,0)], output=True)\n",
    "\n",
    "# The third adder adds a time-delayed version of F3 and F4.  This output is F5\n",
    "scaffold.add_brick(temporal_shift(name='shift_3_', shift_length=shift_length_total), [(2,0)], output=True) #5\n",
    "scaffold.add_brick(streaming_adder(name='add_34_'), [(4,0), (5,0)], output=True)\n",
    "\n",
    "# The fourth adder adds a time-delayed version of F4 and F5.  This output is F6\n",
    "scaffold.add_brick(temporal_shift(name='shift_4_', shift_length=shift_length_total), [(4,0)], output=True) #7\n",
    "scaffold.add_brick(streaming_adder(name='add_45_'), [(6,0), (7,0)], output=True)\n",
    "\n",
    "# and so forth.  We'll do this for 10 elements\n",
    "scaffold.add_brick(temporal_shift(name='shift_5_', shift_length=shift_length_total), [(6,0)], output=True) #9\n",
    "scaffold.add_brick(streaming_adder(name='add_56_'), [(8,0), (9,0)], output=True)\n",
    "\n",
    "scaffold.add_brick(temporal_shift(name='shift_6_', shift_length=shift_length_total), [(8,0)], output=True) #11\n",
    "scaffold.add_brick(streaming_adder(name='add_67_'), [(10,0), (11,0)], output=True)\n",
    "\n",
    "scaffold.add_brick(temporal_shift(name='shift_7_', shift_length=shift_length_total), [(10,0)], output=True) #13\n",
    "scaffold.add_brick(streaming_adder(name='add_78_'), [(12,0), (13,0)], output=True)\n",
    "\n",
    "scaffold.add_brick(temporal_shift(name='shift_8_', shift_length=shift_length_total), [(12,0)], output=True) #15\n",
    "scaffold.add_brick(streaming_adder(name='add_89_'), [(14,0), (15,0)], output=True)\n",
    "\n",
    "scaffold.add_brick(temporal_shift(name='shift_9_', shift_length=shift_length_total), [(14,0)], output=True) #17\n",
    "scaffold.add_brick(streaming_adder(name='add_910_'), [(16,0), (17,0)], output=True) \n"
   ]
  },
  {
   "cell_type": "markdown",
   "id": "7ed71eb0",
   "metadata": {},
   "source": [
    "We now see our circuit is much more interesting."
   ]
  },
  {
   "cell_type": "code",
   "execution_count": 9,
   "id": "5ea8409e",
   "metadata": {
    "ExecuteTime": {
     "end_time": "2022-10-17T19:26:37.803329Z",
     "start_time": "2022-10-17T19:26:37.423870Z"
    }
   },
   "outputs": [
    {
     "data": {
      "image/png": "[encoded data removed]",
      "text/plain": [
       "<Figure size 432x288 with 1 Axes>"
      ]
     },
     "metadata": {},
     "output_type": "display_data"
    }
   ],
   "source": [
    "nx.draw(scaffold.circuit)"
   ]
  },
  {
   "cell_type": "code",
   "execution_count": 11,
   "id": "d50c4a52",
   "metadata": {
    "ExecuteTime": {
     "end_time": "2022-10-17T19:32:42.496862Z",
     "start_time": "2022-10-17T19:32:42.484843Z"
    }
   },
   "outputs": [
    {
     "data": {
      "text/plain": [
       "<networkx.classes.digraph.DiGraph at 0x7f388d759df0>"
      ]
     },
     "execution_count": 11,
     "metadata": {},
     "output_type": "execute_result"
    }
   ],
   "source": [
    "#Lastly, lay_bricks builds an IR\n",
    "scaffold.lay_bricks()"
   ]
  },
  {
   "cell_type": "markdown",
   "id": "8d1e5023",
   "metadata": {},
   "source": [
    "We now have a built scaffold.graph!"
   ]
  },
  {
   "cell_type": "code",
   "execution_count": 12,
   "id": "10c30715",
   "metadata": {
    "ExecuteTime": {
     "end_time": "2022-10-17T19:32:45.522406Z",
     "start_time": "2022-10-17T19:32:44.070343Z"
    }
   },
   "outputs": [
    {
     "data": {
      "image/png": "[encoded data removed]",
      "text/plain": [
       "<Figure size 432x288 with 1 Axes>"
      ]
     },
     "metadata": {},
     "output_type": "display_data"
    }
   ],
   "source": [
    "nx.draw(scaffold.graph)"
   ]
  },
  {
   "cell_type": "markdown",
   "id": "301ddcf9",
   "metadata": {},
   "source": [
    "It's time to run our scaffold.  For that, we need a backend.  We'll use the snn simulator backend.  "
   ]
  },
  {
   "cell_type": "code",
   "execution_count": 13,
   "id": "b296cbc5",
   "metadata": {
    "ExecuteTime": {
     "end_time": "2022-10-17T19:48:09.876507Z",
     "start_time": "2022-10-17T19:48:09.183573Z"
    }
   },
   "outputs": [
    {
     "name": "stdout",
     "output_type": "stream",
     "text": [
      "     time  neuron_number\n",
      "0     0.0            5.0\n",
      "1     0.0            0.0\n",
      "2     0.0            3.0\n",
      "3     1.0            1.0\n",
      "4     1.0            4.0\n",
      "..    ...            ...\n",
      "108  22.0           80.0\n",
      "109  23.0           83.0\n",
      "110  24.0           76.0\n",
      "111  25.0           70.0\n",
      "112  28.0           79.0\n",
      "\n",
      "[113 rows x 2 columns]\n"
     ]
    }
   ],
   "source": [
    "backend = snn_Backend()\n",
    "backend_args = {}\n",
    "backend_args['record'] = 'all'\n",
    "backend.compile(scaffold, backend_args)\n",
    "result = backend.run(50)\n",
    "print(result)"
   ]
  },
  {
   "cell_type": "markdown",
   "id": "1b5b122c",
   "metadata": {},
   "source": [
    "Lastly, we can print and plot our results."
   ]
  },
  {
   "cell_type": "code",
   "execution_count": 12,
   "id": "2fc07610",
   "metadata": {
    "ExecuteTime": {
     "end_time": "2022-10-17T18:52:39.180656Z",
     "start_time": "2022-10-17T18:52:39.034159Z"
    }
   },
   "outputs": [
    {
     "name": "stdout",
     "output_type": "stream",
     "text": [
      "Number of neurons:  84\n"
     ]
    },
    {
     "data": {
      "image/png": "[encoded data removed]",
      "text/plain": [
       "<Figure size 432x288 with 1 Axes>"
      ]
     },
     "metadata": {
      "needs_background": "light"
     },
     "output_type": "display_data"
    }
   ],
   "source": [
    "plot_spike_raster(scaffold, result)"
   ]
  },
  {
   "cell_type": "code",
   "execution_count": 15,
   "id": "b2c7bd89",
   "metadata": {
    "ExecuteTime": {
     "end_time": "2022-10-17T19:49:54.670201Z",
     "start_time": "2022-10-17T19:49:54.590517Z"
    }
   },
   "outputs": [
    {
     "name": "stdout",
     "output_type": "stream",
     "text": [
      "Fibonacci 3 1.0 at neuron 11\n",
      "Fibonacci 4 2.0 at neuron 20\n",
      "Fibonacci 5 3.0 at neuron 29\n",
      "Fibonacci 6 5.0 at neuron 38\n",
      "Fibonacci 7 8.0 at neuron 47\n",
      "Fibonacci 8 13.0 at neuron 56\n",
      "Fibonacci 9 21.0 at neuron 65\n",
      "Fibonacci 10 34.0 at neuron 74\n"
     ]
    }
   ],
   "source": [
    "compute_value(result)"
   ]
  },
  {
   "cell_type": "markdown",
   "id": "5dc3ca05",
   "metadata": {},
   "source": [
    "### For more details and a recursive example, see `Fibonacci_example.ipynb` on the Fugu repo."
   ]
  }
 ],
 "metadata": {
  "kernelspec": {
   "display_name": "Python 3",
   "language": "python",
   "name": "python3"
  },
  "language_info": {
   "codemirror_mode": {
    "name": "ipython",
    "version": 3
   },
   "file_extension": ".py",
   "mimetype": "text/x-python",
   "name": "python",
   "nbconvert_exporter": "python",
   "pygments_lexer": "ipython3",
   "version": "3.8.10"
  },
  "toc": {
   "base_numbering": 1,
   "nav_menu": {},
   "number_sections": false,
   "sideBar": true,
   "skip_h1_title": false,
   "title_cell": "Table of Contents",
   "title_sidebar": "Contents",
   "toc_cell": false,
   "toc_position": {},
   "toc_section_display": true,
   "toc_window_display": false
  }
 },
 "nbformat": 4,
 "nbformat_minor": 5
}
